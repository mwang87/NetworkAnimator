{
 "cells": [
  {
   "cell_type": "code",
   "execution_count": 18,
   "metadata": {
    "collapsed": true
   },
   "outputs": [],
   "source": [
    "\"\"\"Lets try to get all visual properties and save to json files ourselves\"\"\"\n",
    "\n",
    "from py2cytoscape import cyrest\n",
    "from py2cytoscape.data.cyrest_client import CyRestClient\n",
    "import sys\n",
    "import json\n",
    "import requests\n",
    "\n",
    "groups = [\"GNPSGROUP:fungal culture\", \"GNPSGROUP:plant\"]"
   ]
  },
  {
   "cell_type": "code",
   "execution_count": 29,
   "metadata": {},
   "outputs": [
    {
     "name": "stdout",
     "output_type": "stream",
     "text": [
      "apiVersion v1\n",
      "cytoscapeVersion 3.5.1\n",
      "None\n",
      "{'mappingType': 'continuous', 'mappingColumn': 'GNPSGROUP:fungal culture', 'mappingColumnType': 'Double', 'visualProperty': 'NODE_SIZE', 'points': [{'value': 0.0, 'lesser': '1.0', 'equal': '18.49624060150376', 'greater': '18.49624060150376'}, {'value': 0.029145017955578327, 'lesser': '800.8215084219337', 'equal': '800.8215084219337', 'greater': '1.0'}]}\n",
      "{'mappingType': 'passthrough', 'mappingColumn': 'Compound_Name', 'mappingColumnType': 'String', 'visualProperty': 'NODE_LABEL'}\n"
     ]
    }
   ],
   "source": [
    "cytoscape=cyrest.cyclient()\n",
    "print(cytoscape.version())\n",
    "\n",
    "#full_style = requests.get(\"http://localhost:1234/v1/styles/Sample2\").json()\n",
    "full_style = json.loads(open(\"./data/mapped_style.json\").read())\n",
    "\n",
    "\n",
    "\n",
    "cytoscape.vizmap.update_style(title=\"Sample2\", defaults=full_style[\"defaults\"], mappings=full_style[\"mappings\"], verbose=True)\n",
    "\n",
    "# print(cytoscape.network.list())\n",
    "# cytoscape.vizmap.mapVisualProperty(visualProperty=\"NODE_SIZE\", \\\n",
    "#                                    mappingType=\"continuous\", \\\n",
    "#                                    mappingColumn=\"GNPSGROUP:fungal culture\", \\\n",
    "#                                    lower=[0, 18.49624060150376], \\\n",
    "#                                    center=[0.029145017955578327, 800], \\\n",
    "#                                    upper=[0.029145017955578327, 800], \\\n",
    "#                                    network=\"52\", \\\n",
    "#                                    verbose=True)\n"
   ]
  },
  {
   "cell_type": "code",
   "execution_count": 57,
   "metadata": {},
   "outputs": [
    {
     "name": "stdout",
     "output_type": "stream",
     "text": [
      "apiVersion v1\n",
      "cytoscapeVersion 3.5.1\n",
      "None\n",
      "http://localhost:1234/v1/styles/Sample2\n",
      "--2019-04-04 17:13:53--  http://localhost:1234/v1/networks/52/views/first.png\n",
      "Resolving localhost... ::1, fe80::1, 127.0.0.1\n",
      "Connecting to localhost|::1|:1234... connected.\n",
      "HTTP request sent, awaiting response... 200 OK\n",
      "Length: unspecified [image/png]\n",
      "Saving to: 'png/GNPSGROUP:fungal culture.png'\n",
      "\n",
      "png/GNPSGROUP:funga     [ <=>                  ] 119.45K  --.-KB/s   in 0.002s \n",
      "\n",
      "2019-04-04 17:13:53 (72.4 MB/s) - 'png/GNPSGROUP:fungal culture.png' saved [122314]\n",
      "\n",
      "http://localhost:1234/v1/styles/Sample2\n",
      "--2019-04-04 17:13:55--  http://localhost:1234/v1/networks/52/views/first.png\n",
      "Resolving localhost... ::1, fe80::1, 127.0.0.1\n",
      "Connecting to localhost|::1|:1234... connected.\n",
      "HTTP request sent, awaiting response... 200 OK\n",
      "Length: unspecified [image/png]\n",
      "Saving to: 'png/GNPSGROUP:plant.png'\n",
      "\n",
      "png/GNPSGROUP:plant     [ <=>                  ] 116.31K  --.-KB/s   in 0.001s \n",
      "\n",
      "2019-04-04 17:13:55 (195 MB/s) - 'png/GNPSGROUP:plant.png' saved [119106]\n",
      "\n"
     ]
    }
   ],
   "source": [
    "import os\n",
    "\n",
    "cytoscape=cyrest.cyclient()\n",
    "print(cytoscape.version())\n",
    "\n",
    "full_style = json.loads(open(\"./data/mapped_style.json\").read())\n",
    "\n",
    "for group in groups:\n",
    "    for mapping in full_style[\"mappings\"]:\n",
    "        if mapping[\"mappingType\"] == \"continuous\":\n",
    "            #mapping[\"mappingColumn\"] = \"GNPSGROUP:plant\"\n",
    "            #mapping[\"mappingColumn\"] = \"GNPSGROUP:fungal culture\"\n",
    "            mapping[\"mappingColumn\"] = group\n",
    "\n",
    "    cytoscape.vizmap.update_style(title=\"Sample2\", defaults=full_style[\"defaults\"], mappings=full_style[\"mappings\"], verbose=True)\n",
    "    requests.get(\"http://localhost:1234/v1/commands/vizmap/apply?styles=%s\" % (\"Sample2\")) #Replace with updated API\n",
    "    \n",
    "    #Getting PNG\n",
    "    url = \"http://localhost:1234/v1/networks/%s/views/first.png\" % (\"52\")\n",
    "    output_filename = os.path.join(\"png\", group + \".png\")\n",
    "    !wget $url --output-document \"$output_filename\"\n",
    "    #png_object = requests.get(\"http://localhost:1234/v1/networks/%s/views/first.png\" % (\"52\")).response_text \n",
    "\n",
    "#cytoscape.vizmap.apply(styles=\"Sample2\", verbose=True)"
   ]
  },
  {
   "cell_type": "code",
   "execution_count": 53,
   "metadata": {},
   "outputs": [
    {
     "name": "stdout",
     "output_type": "stream",
     "text": [
      "--2019-04-04 17:10:46--  http://localhost:1234/v1/networks/52/views/first.png\n",
      "Resolving localhost... ::1, fe80::1, 127.0.0.1\n",
      "Connecting to localhost|::1|:1234... connected.\n",
      "HTTP request sent, awaiting response... 200 OK\n",
      "Length: unspecified [image/png]\n",
      "Saving to: '1.png'\n",
      "\n",
      "1.png                   [ <=>                  ] 119.58K  --.-KB/s   in 0.001s \n",
      "\n",
      "2019-04-04 17:10:46 (171 MB/s) - '1.png' saved [122446]\n",
      "\n"
     ]
    }
   ],
   "source": [
    "url = \"http://localhost:1234/v1/networks/%s/views/first.png\" % (\"52\")\n",
    "!wget $url --output-document \"1.png\"\n",
    "#png_object = requests.get(\"http://localhost:1234/v1/networks/%s/views/first.png\" % (\"52\"))\n",
    "#open(\"test.png\", \"w\").write(png_object)"
   ]
  },
  {
   "cell_type": "code",
   "execution_count": 2,
   "metadata": {
    "collapsed": true
   },
   "outputs": [],
   "source": [
    "cy  = CyRestClient()"
   ]
  },
  {
   "cell_type": "code",
   "execution_count": 7,
   "metadata": {},
   "outputs": [
    {
     "name": "stderr",
     "output_type": "stream",
     "text": [
      "IOPub data rate exceeded.\n",
      "The notebook server will temporarily stop sending output\n",
      "to the client in order to avoid crashing it.\n",
      "To change this limit, set the config variable\n",
      "`--NotebookApp.iopub_data_rate_limit`.\n"
     ]
    }
   ],
   "source": [
    "mystyle = cy.style.create(\"Animator\")\n",
    "network = cy.network.get(\"52\")\n",
    "print(network)\n",
    "#cy.style.apply(style=mystyle, network=)"
   ]
  },
  {
   "cell_type": "code",
   "execution_count": null,
   "metadata": {
    "collapsed": true
   },
   "outputs": [],
   "source": [
    "    "
   ]
  }
 ],
 "metadata": {
  "kernelspec": {
   "display_name": "Python 3",
   "language": "python",
   "name": "python3"
  },
  "language_info": {
   "codemirror_mode": {
    "name": "ipython",
    "version": 3
   },
   "file_extension": ".py",
   "mimetype": "text/x-python",
   "name": "python",
   "nbconvert_exporter": "python",
   "pygments_lexer": "ipython3",
   "version": "3.6.1"
  }
 },
 "nbformat": 4,
 "nbformat_minor": 2
}
